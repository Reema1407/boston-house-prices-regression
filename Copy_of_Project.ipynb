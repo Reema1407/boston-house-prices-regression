{
  "cells": [
    {
      "cell_type": "markdown",
      "metadata": {
        "id": "view-in-github",
        "colab_type": "text"
      },
      "source": [
        "<a href=\"https://colab.research.google.com/github/Reema1407/boston-house-prices-regression/blob/main/Copy_of_Project.ipynb\" target=\"_parent\"><img src=\"https://colab.research.google.com/assets/colab-badge.svg\" alt=\"Open In Colab\"/></a>"
      ]
    },
    {
      "cell_type": "markdown",
      "metadata": {
        "id": "eITuC0II6lOV"
      },
      "source": [
        "<div style=\"position: relative; text-align: right;\">\n",
        "<img src=\"https://user-images.githubusercontent.com/7065401/98614301-dcf01780-22d6-11eb-9c8f-65ebfceac6f6.png\" style=\"width: 130px; display: inline-block;\"></img>\n",
        "\n",
        "<img src=\"https://user-images.githubusercontent.com/7065401/98864025-08deda80-2448-11eb-9600-22aa17884cdf.png\" style=\"height: 100%; max-height: inherit; position: absolute; top: 20%; left: 0px;\"></img>\n",
        "<br>\n",
        "\n",
        "<h2 style=\"font-weight: bold;\">\n",
        "    Kristin Day\n",
        "</h2>\n",
        "\n",
        "<h3 style=\"color: #ef7d22; margin-top: 0.8em\">\n",
        "    Data Scientist\n",
        "</h3>\n",
        "<hr>\n",
        "<br><br>\n",
        "\n",
        "<p style=\"font-size: 80%; text-align: right; margin: 10px 0px;\">\n",
        "    yokristinday@gmail.com\n",
        "</p>\n",
        "<p style=\"font-size: 80%; text-align: right; margin: 10px 0px;\">\n",
        "    linkedin.com/in/kristin-day-300306a9\n",
        "</p>\n",
        "\n",
        "</div>\n",
        "\n",
        "<br><br><br>"
      ]
    },
    {
      "cell_type": "markdown",
      "metadata": {
        "id": "OkHL7d7E6lOX"
      },
      "source": [
        "<div style=\"position: relative;\">\n",
        "<img src=\"https://user-images.githubusercontent.com/7065401/98728503-5ab82f80-2378-11eb-9c79-adeb308fc647.png\"></img>\n",
        "\n",
        "<h3 style=\"color: white; position: absolute; top:30%; left:10%;\">\n",
        "    Decision Trees\n",
        "</h3>\n",
        "<h1 style=\"color: white; position: absolute; top:35%; left:10%;\">\n",
        "    Boston House Prices Regression\n",
        "</h1>\n",
        "\n",
        "<h3 style=\"color: #ef7d22; font-weight: normal; position: absolute; top:43%; left:10%;\">\n",
        "    Kristin Day\n",
        "</h3>\n",
        "</div>"
      ]
    },
    {
      "cell_type": "markdown",
      "metadata": {
        "id": "-w36L5hT6lOX"
      },
      "source": [
        "<div style=\"width: 100%; background-color: #ef7d22; text-align: center\">\n",
        "<br><br>\n",
        "\n",
        "<h1 style=\"color: white; font-weight: bold;\">\n",
        "    Predict the prices of houses in Boston\n",
        "</h1>\n",
        "\n",
        "\n",
        "<br><br>\n",
        "</div>\n",
        "\n",
        "![boston-housing](https://user-images.githubusercontent.com/7065401/112419797-ca68fe80-8d0a-11eb-8f18-03381a6a1de8.png)\n",
        "\n",
        "<hr>"
      ]
    },
    {
      "cell_type": "code",
      "source": [
        "!pip install dtreeviz"
      ],
      "metadata": {
        "colab": {
          "base_uri": "https://localhost:8080/"
        },
        "id": "hDx89KSInotj",
        "outputId": "6fb9ac68-fbfd-445d-ec53-bd777e51c5fe"
      },
      "execution_count": 6,
      "outputs": [
        {
          "output_type": "stream",
          "name": "stdout",
          "text": [
            "Requirement already satisfied: dtreeviz in /usr/local/lib/python3.10/dist-packages (2.2.2)\n",
            "Requirement already satisfied: graphviz>=0.9 in /usr/local/lib/python3.10/dist-packages (from dtreeviz) (0.20.3)\n",
            "Requirement already satisfied: pandas in /usr/local/lib/python3.10/dist-packages (from dtreeviz) (2.1.4)\n",
            "Requirement already satisfied: numpy in /usr/local/lib/python3.10/dist-packages (from dtreeviz) (1.26.4)\n",
            "Requirement already satisfied: scikit-learn in /usr/local/lib/python3.10/dist-packages (from dtreeviz) (1.3.2)\n",
            "Requirement already satisfied: matplotlib in /usr/local/lib/python3.10/dist-packages (from dtreeviz) (3.7.1)\n",
            "Requirement already satisfied: colour in /usr/local/lib/python3.10/dist-packages (from dtreeviz) (0.1.5)\n",
            "Requirement already satisfied: pytest in /usr/local/lib/python3.10/dist-packages (from dtreeviz) (7.4.4)\n",
            "Requirement already satisfied: contourpy>=1.0.1 in /usr/local/lib/python3.10/dist-packages (from matplotlib->dtreeviz) (1.2.1)\n",
            "Requirement already satisfied: cycler>=0.10 in /usr/local/lib/python3.10/dist-packages (from matplotlib->dtreeviz) (0.12.1)\n",
            "Requirement already satisfied: fonttools>=4.22.0 in /usr/local/lib/python3.10/dist-packages (from matplotlib->dtreeviz) (4.53.1)\n",
            "Requirement already satisfied: kiwisolver>=1.0.1 in /usr/local/lib/python3.10/dist-packages (from matplotlib->dtreeviz) (1.4.5)\n",
            "Requirement already satisfied: packaging>=20.0 in /usr/local/lib/python3.10/dist-packages (from matplotlib->dtreeviz) (24.1)\n",
            "Requirement already satisfied: pillow>=6.2.0 in /usr/local/lib/python3.10/dist-packages (from matplotlib->dtreeviz) (9.4.0)\n",
            "Requirement already satisfied: pyparsing>=2.3.1 in /usr/local/lib/python3.10/dist-packages (from matplotlib->dtreeviz) (3.1.2)\n",
            "Requirement already satisfied: python-dateutil>=2.7 in /usr/local/lib/python3.10/dist-packages (from matplotlib->dtreeviz) (2.8.2)\n",
            "Requirement already satisfied: pytz>=2020.1 in /usr/local/lib/python3.10/dist-packages (from pandas->dtreeviz) (2024.1)\n",
            "Requirement already satisfied: tzdata>=2022.1 in /usr/local/lib/python3.10/dist-packages (from pandas->dtreeviz) (2024.1)\n",
            "Requirement already satisfied: iniconfig in /usr/local/lib/python3.10/dist-packages (from pytest->dtreeviz) (2.0.0)\n",
            "Requirement already satisfied: pluggy<2.0,>=0.12 in /usr/local/lib/python3.10/dist-packages (from pytest->dtreeviz) (1.5.0)\n",
            "Requirement already satisfied: exceptiongroup>=1.0.0rc8 in /usr/local/lib/python3.10/dist-packages (from pytest->dtreeviz) (1.2.2)\n",
            "Requirement already satisfied: tomli>=1.0.0 in /usr/local/lib/python3.10/dist-packages (from pytest->dtreeviz) (2.0.1)\n",
            "Requirement already satisfied: scipy>=1.5.0 in /usr/local/lib/python3.10/dist-packages (from scikit-learn->dtreeviz) (1.13.1)\n",
            "Requirement already satisfied: joblib>=1.1.1 in /usr/local/lib/python3.10/dist-packages (from scikit-learn->dtreeviz) (1.4.2)\n",
            "Requirement already satisfied: threadpoolctl>=2.0.0 in /usr/local/lib/python3.10/dist-packages (from scikit-learn->dtreeviz) (3.5.0)\n",
            "Requirement already satisfied: six>=1.5 in /usr/local/lib/python3.10/dist-packages (from python-dateutil>=2.7->matplotlib->dtreeviz) (1.16.0)\n"
          ]
        }
      ]
    },
    {
      "cell_type": "code",
      "execution_count": 7,
      "metadata": {
        "id": "3-KKKRj56lOX"
      },
      "outputs": [],
      "source": [
        "import pickle\n",
        "\n",
        "import matplotlib.pyplot as plt\n",
        "import pandas as pd\n",
        "\n",
        "import dtreeviz\n",
        "import graphviz\n",
        "from IPython.display import Image\n",
        "\n",
        "from sklearn import datasets\n",
        "from sklearn.metrics import mean_absolute_error,mean_squared_error\n",
        "from sklearn.model_selection import RandomizedSearchCV,train_test_split\n",
        "from sklearn.preprocessing import LabelEncoder\n",
        "import pydotplus\n",
        "from sklearn import tree\n",
        "from sklearn.tree import DecisionTreeRegressor,plot_tree\n",
        "import numpy as np\n",
        "\n",
        "import warnings\n",
        "warnings.filterwarnings('ignore')"
      ]
    },
    {
      "cell_type": "code",
      "source": [
        "!git clone https://github.com/ine-rmotr-projects/boston-house-prices-regression.git"
      ],
      "metadata": {
        "id": "v__x2iRd61iD",
        "outputId": "be449816-a81f-4769-b5db-220db8cf877d",
        "colab": {
          "base_uri": "https://localhost:8080/"
        }
      },
      "execution_count": 8,
      "outputs": [
        {
          "output_type": "stream",
          "name": "stdout",
          "text": [
            "fatal: destination path 'boston-house-prices-regression' already exists and is not an empty directory.\n"
          ]
        }
      ]
    },
    {
      "cell_type": "markdown",
      "metadata": {
        "id": "ixY1xLJe6lOY"
      },
      "source": [
        "# Step 1: Pull in your data"
      ]
    },
    {
      "cell_type": "code",
      "execution_count": 9,
      "metadata": {
        "id": "8Ynfstrg6lOY"
      },
      "outputs": [],
      "source": [
        "# Pull in your data\n",
        "data_url = \"http://lib.stat.cmu.edu/datasets/boston\"\n",
        "boston = pd.read_csv(data_url, sep=\"\\s+\", skiprows=22, header=None)\n",
        "\n",
        "X = np.hstack([boston.values[::2, :], boston.values[1::2, :2]])\n",
        "y = boston.values[1::2, 2]"
      ]
    },
    {
      "cell_type": "code",
      "execution_count": 10,
      "metadata": {
        "id": "_N9u2Jie6lOY",
        "outputId": "b08bb332-9f30-4dda-b5af-eb3ebb3dd295",
        "colab": {
          "base_uri": "https://localhost:8080/"
        }
      },
      "outputs": [
        {
          "output_type": "stream",
          "name": "stdout",
          "text": [
            "['0', '1', '2', '3', '4', '5', '6', '7', '8', '9', '10']\n"
          ]
        }
      ],
      "source": [
        "features = [str(f) for f in boston.columns.tolist()]\n",
        "print(features)"
      ]
    },
    {
      "cell_type": "markdown",
      "metadata": {
        "id": "cDZigBjw6lOY"
      },
      "source": [
        "# Step 2: Split data into train and test data"
      ]
    },
    {
      "cell_type": "code",
      "execution_count": 11,
      "metadata": {
        "id": "x02OfuMb6lOZ",
        "outputId": "7782125d-7018-431f-bd23-36ca00ad23c0",
        "colab": {
          "base_uri": "https://localhost:8080/"
        }
      },
      "outputs": [
        {
          "output_type": "execute_result",
          "data": {
            "text/plain": [
              "(404, 102)"
            ]
          },
          "metadata": {},
          "execution_count": 11
        }
      ],
      "source": [
        "# Split data into test and train\n",
        "X_train, X_test, y_train, y_test = train_test_split(X, y, test_size=.20, random_state = 42)\n",
        "len(X_train),len(X_test)"
      ]
    },
    {
      "cell_type": "markdown",
      "metadata": {
        "id": "GCAmNImG6lOZ"
      },
      "source": [
        "# Step 3: Instantiate your machine learning class"
      ]
    },
    {
      "cell_type": "code",
      "execution_count": 12,
      "metadata": {
        "id": "syfdeF0f6lOZ",
        "outputId": "72d50e49-d339-4a4d-e786-41ee1b63ccad",
        "colab": {
          "base_uri": "https://localhost:8080/"
        }
      },
      "outputs": [
        {
          "output_type": "execute_result",
          "data": {
            "text/plain": [
              "{'min_samples_split': 4, 'min_samples_leaf': 7, 'max_depth': 7}"
            ]
          },
          "metadata": {},
          "execution_count": 12
        }
      ],
      "source": [
        "# This is where you set hyperparameters for model tuning\n",
        "# Create a hyperparameter distribution like we did in the lessons\n",
        "\n",
        "depth_list = [i for i in range(2,10) ] +[None]\n",
        "param_dist = {\n",
        "    'max_depth':depth_list,\n",
        "    'min_samples_leaf':range(2,10),\n",
        "    'min_samples_split':range(2,10,2)\n",
        "}\n",
        "\n",
        "# Instantiate a decision tree regressor using criterion='mse' and set a random state\n",
        "dt_regressor = DecisionTreeRegressor(criterion='squared_error',random_state = 42)\n",
        "\n",
        "# Instantiate a RandomSearchCV instance\n",
        "random_search = RandomizedSearchCV(dt_regressor,param_dist,cv=6,random_state=42)\n",
        "\n",
        "# Fit the random search instance on train data\n",
        "random_search.fit(X_train,y_train)\n",
        "\n",
        "best_params = random_search.best_params_\n",
        "best_params"
      ]
    },
    {
      "cell_type": "code",
      "execution_count": 13,
      "metadata": {
        "id": "o6lM4UXI6lOZ"
      },
      "outputs": [],
      "source": [
        "# Use the best hyperparameters to instantiate a new regressor instance\n",
        "best_regressor = DecisionTreeRegressor(criterion='squared_error',max_depth=best_params['max_depth'],\n",
        "                                       min_samples_leaf = best_params['min_samples_leaf'],\n",
        "                                       min_samples_split = best_params['min_samples_split'],random_state=42)"
      ]
    },
    {
      "cell_type": "markdown",
      "metadata": {
        "id": "ZjcX4h886lOZ"
      },
      "source": [
        "# Step 4: Fit the model on your training data"
      ]
    },
    {
      "cell_type": "code",
      "execution_count": 33,
      "metadata": {
        "id": "Ek4_KarS6lOZ",
        "colab": {
          "base_uri": "https://localhost:8080/",
          "height": 91
        },
        "outputId": "1e1f9488-5fae-426d-8ca8-bc82caedd125"
      },
      "outputs": [
        {
          "output_type": "execute_result",
          "data": {
            "text/plain": [
              "DecisionTreeRegressor(max_depth=7, min_samples_leaf=7, min_samples_split=4,\n",
              "                      random_state=42)"
            ],
            "text/html": [
              "<style>#sk-container-id-1 {color: black;}#sk-container-id-1 pre{padding: 0;}#sk-container-id-1 div.sk-toggleable {background-color: white;}#sk-container-id-1 label.sk-toggleable__label {cursor: pointer;display: block;width: 100%;margin-bottom: 0;padding: 0.3em;box-sizing: border-box;text-align: center;}#sk-container-id-1 label.sk-toggleable__label-arrow:before {content: \"▸\";float: left;margin-right: 0.25em;color: #696969;}#sk-container-id-1 label.sk-toggleable__label-arrow:hover:before {color: black;}#sk-container-id-1 div.sk-estimator:hover label.sk-toggleable__label-arrow:before {color: black;}#sk-container-id-1 div.sk-toggleable__content {max-height: 0;max-width: 0;overflow: hidden;text-align: left;background-color: #f0f8ff;}#sk-container-id-1 div.sk-toggleable__content pre {margin: 0.2em;color: black;border-radius: 0.25em;background-color: #f0f8ff;}#sk-container-id-1 input.sk-toggleable__control:checked~div.sk-toggleable__content {max-height: 200px;max-width: 100%;overflow: auto;}#sk-container-id-1 input.sk-toggleable__control:checked~label.sk-toggleable__label-arrow:before {content: \"▾\";}#sk-container-id-1 div.sk-estimator input.sk-toggleable__control:checked~label.sk-toggleable__label {background-color: #d4ebff;}#sk-container-id-1 div.sk-label input.sk-toggleable__control:checked~label.sk-toggleable__label {background-color: #d4ebff;}#sk-container-id-1 input.sk-hidden--visually {border: 0;clip: rect(1px 1px 1px 1px);clip: rect(1px, 1px, 1px, 1px);height: 1px;margin: -1px;overflow: hidden;padding: 0;position: absolute;width: 1px;}#sk-container-id-1 div.sk-estimator {font-family: monospace;background-color: #f0f8ff;border: 1px dotted black;border-radius: 0.25em;box-sizing: border-box;margin-bottom: 0.5em;}#sk-container-id-1 div.sk-estimator:hover {background-color: #d4ebff;}#sk-container-id-1 div.sk-parallel-item::after {content: \"\";width: 100%;border-bottom: 1px solid gray;flex-grow: 1;}#sk-container-id-1 div.sk-label:hover label.sk-toggleable__label {background-color: #d4ebff;}#sk-container-id-1 div.sk-serial::before {content: \"\";position: absolute;border-left: 1px solid gray;box-sizing: border-box;top: 0;bottom: 0;left: 50%;z-index: 0;}#sk-container-id-1 div.sk-serial {display: flex;flex-direction: column;align-items: center;background-color: white;padding-right: 0.2em;padding-left: 0.2em;position: relative;}#sk-container-id-1 div.sk-item {position: relative;z-index: 1;}#sk-container-id-1 div.sk-parallel {display: flex;align-items: stretch;justify-content: center;background-color: white;position: relative;}#sk-container-id-1 div.sk-item::before, #sk-container-id-1 div.sk-parallel-item::before {content: \"\";position: absolute;border-left: 1px solid gray;box-sizing: border-box;top: 0;bottom: 0;left: 50%;z-index: -1;}#sk-container-id-1 div.sk-parallel-item {display: flex;flex-direction: column;z-index: 1;position: relative;background-color: white;}#sk-container-id-1 div.sk-parallel-item:first-child::after {align-self: flex-end;width: 50%;}#sk-container-id-1 div.sk-parallel-item:last-child::after {align-self: flex-start;width: 50%;}#sk-container-id-1 div.sk-parallel-item:only-child::after {width: 0;}#sk-container-id-1 div.sk-dashed-wrapped {border: 1px dashed gray;margin: 0 0.4em 0.5em 0.4em;box-sizing: border-box;padding-bottom: 0.4em;background-color: white;}#sk-container-id-1 div.sk-label label {font-family: monospace;font-weight: bold;display: inline-block;line-height: 1.2em;}#sk-container-id-1 div.sk-label-container {text-align: center;}#sk-container-id-1 div.sk-container {/* jupyter's `normalize.less` sets `[hidden] { display: none; }` but bootstrap.min.css set `[hidden] { display: none !important; }` so we also need the `!important` here to be able to override the default hidden behavior on the sphinx rendered scikit-learn.org. See: https://github.com/scikit-learn/scikit-learn/issues/21755 */display: inline-block !important;position: relative;}#sk-container-id-1 div.sk-text-repr-fallback {display: none;}</style><div id=\"sk-container-id-1\" class=\"sk-top-container\"><div class=\"sk-text-repr-fallback\"><pre>DecisionTreeRegressor(max_depth=7, min_samples_leaf=7, min_samples_split=4,\n",
              "                      random_state=42)</pre><b>In a Jupyter environment, please rerun this cell to show the HTML representation or trust the notebook. <br />On GitHub, the HTML representation is unable to render, please try loading this page with nbviewer.org.</b></div><div class=\"sk-container\" hidden><div class=\"sk-item\"><div class=\"sk-estimator sk-toggleable\"><input class=\"sk-toggleable__control sk-hidden--visually\" id=\"sk-estimator-id-1\" type=\"checkbox\" checked><label for=\"sk-estimator-id-1\" class=\"sk-toggleable__label sk-toggleable__label-arrow\">DecisionTreeRegressor</label><div class=\"sk-toggleable__content\"><pre>DecisionTreeRegressor(max_depth=7, min_samples_leaf=7, min_samples_split=4,\n",
              "                      random_state=42)</pre></div></div></div></div></div>"
            ]
          },
          "metadata": {},
          "execution_count": 33
        }
      ],
      "source": [
        "# Fit the classifier to the train data\n",
        "best_regressor.fit(X_train,y_train)"
      ]
    },
    {
      "cell_type": "markdown",
      "metadata": {
        "id": "qvvle2Vn6lOZ"
      },
      "source": [
        "# Step 5: Make predictions on the train and test data"
      ]
    },
    {
      "cell_type": "code",
      "execution_count": 34,
      "metadata": {
        "id": "VTfT0Ac46lOa"
      },
      "outputs": [],
      "source": [
        "# Now we need can test how well the model works on unseen data using the test set\n",
        "# Predict on the train data\n",
        "y_pred_tr = best_regressor.predict(X_train)\n",
        "# Predict on the test data\n",
        "y_pred_ts = best_regressor.predict(X_test)"
      ]
    },
    {
      "cell_type": "markdown",
      "metadata": {
        "id": "snid5lOE6lOa"
      },
      "source": [
        "# Step 6: Evaluate model performance"
      ]
    },
    {
      "cell_type": "code",
      "execution_count": 35,
      "metadata": {
        "id": "qqRECvWq6lOa",
        "colab": {
          "base_uri": "https://localhost:8080/"
        },
        "outputId": "9cb9f78c-b9fc-4830-e84c-b49f2e2ca269"
      },
      "outputs": [
        {
          "output_type": "execute_result",
          "data": {
            "text/plain": [
              "6.255843525529023"
            ]
          },
          "metadata": {},
          "execution_count": 35
        }
      ],
      "source": [
        "# Get the baseline accuracy - for continuous targets that means always predicting the training mean\n",
        "# Look at the training mean\n",
        "y_train_mean = y_train.mean()\n",
        "\n",
        "# Get the mean_absolute_error of predicting the mean\n",
        "mean_absolute_error(y_test, [y_train_mean] *len(y_test) )"
      ]
    },
    {
      "cell_type": "code",
      "execution_count": 37,
      "metadata": {
        "id": "_WOLZcs86lOa",
        "colab": {
          "base_uri": "https://localhost:8080/"
        },
        "outputId": "bbc7647c-f5c9-49d9-944f-47da32a8b8bb"
      },
      "outputs": [
        {
          "output_type": "execute_result",
          "data": {
            "text/plain": [
              "2.165651190119012"
            ]
          },
          "metadata": {},
          "execution_count": 37
        }
      ],
      "source": [
        "# Calculate training error\n",
        "mean_absolute_error(y_train,y_pred_tr)"
      ]
    },
    {
      "cell_type": "code",
      "execution_count": 38,
      "metadata": {
        "id": "oMWXPAu06lOa",
        "colab": {
          "base_uri": "https://localhost:8080/"
        },
        "outputId": "bbe39449-992a-4e7d-de46-79a3013195d0"
      },
      "outputs": [
        {
          "output_type": "execute_result",
          "data": {
            "text/plain": [
              "2.8526070787792244"
            ]
          },
          "metadata": {},
          "execution_count": 38
        }
      ],
      "source": [
        "# Calculate testing error\n",
        "mean_absolute_error(y_test,y_pred_ts)"
      ]
    },
    {
      "cell_type": "markdown",
      "metadata": {
        "id": "e4CkGeMy6lOa"
      },
      "source": [
        "# Step 7: Cost-Complexity Pruning"
      ]
    },
    {
      "cell_type": "code",
      "execution_count": 75,
      "metadata": {
        "id": "Xctkpk3-6lOa",
        "colab": {
          "base_uri": "https://localhost:8080/"
        },
        "outputId": "7b99564a-29d4-4867-87d2-483e715fbf7a"
      },
      "outputs": [
        {
          "output_type": "execute_result",
          "data": {
            "text/plain": [
              "array([0.00000000e+00, 2.10403406e-02, 4.61900047e-02, 8.26337759e-02,\n",
              "       1.00991867e-01, 1.06458218e-01, 1.14429776e-01, 1.18900211e-01,\n",
              "       1.30429443e-01, 1.39417675e-01, 1.63821879e-01, 1.85479137e-01,\n",
              "       1.87910500e-01, 2.64292321e-01, 2.81162123e-01, 2.84152174e-01,\n",
              "       2.89161716e-01, 3.13858482e-01, 3.20241115e-01, 4.10500986e-01,\n",
              "       4.92822179e-01, 6.70218676e-01, 7.87820759e-01, 8.60896040e-01,\n",
              "       8.96166476e-01, 1.04808356e+00, 2.16662832e+00, 3.16596443e+00,\n",
              "       5.94515856e+00, 1.44201615e+01, 4.08534465e+01])"
            ]
          },
          "metadata": {},
          "execution_count": 75
        }
      ],
      "source": [
        "# Get a list of alphas to test\n",
        "alphalist = best_regressor.cost_complexity_pruning_path(X_train,y_train)\n",
        "# path has a ccp_alphas attribute and an impurities attribute\n",
        "alphalist.ccp_alphas"
      ]
    },
    {
      "cell_type": "code",
      "execution_count": 76,
      "metadata": {
        "id": "z4hZJE8G6lOa"
      },
      "outputs": [],
      "source": [
        "from ctypes import c_char_p\n",
        "model = []\n",
        "for alpha in alphalist.ccp_alphas:\n",
        "  regr = DecisionTreeRegressor(criterion='squared_error', random_state=42, ccp_alpha = alpha)\n",
        "  regr.fit(X_train,y_train)\n",
        "  model.append(regr)"
      ]
    },
    {
      "cell_type": "code",
      "execution_count": 77,
      "metadata": {
        "id": "p0yf8xEF6lOa"
      },
      "outputs": [],
      "source": [
        "# We know we never want a tree with one node.  We will always remove this model which is the last tree/alpha\n",
        "ccp_alphas = alphalist.ccp_alphas[:-1]\n",
        "model = model[:-1]"
      ]
    },
    {
      "cell_type": "code",
      "execution_count": 79,
      "metadata": {
        "id": "rz49aRBN6lOb",
        "colab": {
          "base_uri": "https://localhost:8080/",
          "height": 431
        },
        "outputId": "0fd08acf-834c-45c7-d293-0f3c5b53d333"
      },
      "outputs": [
        {
          "output_type": "display_data",
          "data": {
            "text/plain": [
              "<Figure size 640x480 with 1 Axes>"
            ],
            "image/png": "[encoded data removed]"
          },
          "metadata": {}
        }
      ],
      "source": [
        "# Plot the number of nodes and depth for each model with the corresponding alpha\n",
        "node_counts = [reg_temp.tree_.node_count for reg_temp in model]\n",
        "depths = [reg_temp.tree_.max_depth for reg_temp in model]\n",
        "plt.scatter(ccp_alphas,node_counts)\n",
        "plt.scatter(ccp_alphas,depths)\n",
        "plt.plot(ccp_alphas,node_counts,label='num nodes',drawstyle='steps-post')\n",
        "plt.plot(ccp_alphas,depths,label='depth',drawstyle='steps-post')\n",
        "plt.legend()\n",
        "plt.show()"
      ]
    },
    {
      "cell_type": "code",
      "execution_count": 63,
      "metadata": {
        "id": "KNMcCUfa6lOb"
      },
      "outputs": [],
      "source": [
        "# Visualize our train and test accuracy with different values of alpha\n",
        "# Get lists of training errors and testing errors\n",
        "train_err = list()\n",
        "test_err = list()\n",
        "for reg_temp in model:\n",
        "    y_pred_train = reg_temp.predict(X_train)\n",
        "    y_pred_test = reg_temp.predict(X_test)\n",
        "    train_err.append(mean_absolute_error(y_pred_train,y_train))\n",
        "    test_err.append(mean_absolute_error(y_pred_test,y_test))\n"
      ]
    },
    {
      "cell_type": "code",
      "execution_count": 67,
      "metadata": {
        "id": "sygFtyAJ6lOb",
        "colab": {
          "base_uri": "https://localhost:8080/",
          "height": 452
        },
        "outputId": "67626d7d-c8f2-49df-b0d9-ee4b5de4b5a4"
      },
      "outputs": [
        {
          "output_type": "display_data",
          "data": {
            "text/plain": [
              "<Figure size 640x480 with 1 Axes>"
            ],
            "image/png": "[encoded data removed]"
          },
          "metadata": {}
        }
      ],
      "source": [
        "# Plot the errors with corresponding alphas\n",
        "plt.scatter(ccp_alphas,train_err)\n",
        "plt.scatter(ccp_alphas,test_err)\n",
        "plt.plot(ccp_alphas,train_err,label='train_error',drawstyle='steps-post')\n",
        "plt.plot(ccp_alphas,test_err,label='test_error',drawstyle='steps-post')\n",
        "plt.legend()\n",
        "plt.title('Error vs. Alpha')\n",
        "plt.show()"
      ]
    },
    {
      "cell_type": "code",
      "execution_count": 80,
      "metadata": {
        "id": "egGrEQan6lOb",
        "colab": {
          "base_uri": "https://localhost:8080/"
        },
        "outputId": "6821f6d6-c5bd-4735-f3dc-a8c74660c947"
      },
      "outputs": [
        {
          "output_type": "stream",
          "name": "stdout",
          "text": [
            "2.394117647058824 0.0\n",
            "2.4225708976401013 0.021040340641206162\n",
            "2.303433529017439 0.046190004714779964\n",
            "2.254265500694999 0.08263377587762605\n",
            "2.228275037160907 0.10099186704384328\n",
            "2.228275037160907 0.10645821806456479\n",
            "2.205326598526194 0.11442977631096801\n",
            "2.205326598526194 0.11890021148423102\n",
            "2.2324686068446726 0.13042944294431785\n",
            "2.196839878207175 0.13941767510076908\n",
            "2.1464174261322464 0.1638218788984283\n",
            "2.1473705851736407 0.18547913719943332\n",
            "2.1473705851736407 0.1879105002605846\n",
            "2.3058309763151517 0.26429232149400983\n",
            "2.354981146750152 0.2811621227912404\n",
            "2.4157267943585445 0.28415217445168955\n",
            "2.4157267943585445 0.2891617161716385\n",
            "2.4157267943585445 0.3138584821716801\n",
            "2.4157267943585445 0.3202411151479967\n",
            "2.3773044866018718 0.41050098626321896\n",
            "2.433964150467418 0.49282217892836555\n",
            "2.5875625082436216 0.6702186759748963\n",
            "2.690833266686794 0.7878207585795189\n",
            "2.6777437065384104 0.860896039603976\n",
            "2.6777437065384104 0.8961664762499013\n",
            "2.7319103732050767 1.0480835625855347\n",
            "2.9295239552232495 2.166628317047657\n",
            "3.451123092550054 3.1659644341128192\n",
            "4.020917687713275 5.9451585573106165\n",
            "4.020917687713275 14.420161474850609\n"
          ]
        }
      ],
      "source": [
        "# Print the errors with the alphas - look for the lowest error and choose that alpha as the best\n",
        "# You can do this visually or with a loop\n",
        "for e,a in zip(test_err,ccp_alphas):\n",
        "  print(e,a)\n"
      ]
    },
    {
      "cell_type": "code",
      "execution_count": 81,
      "metadata": {
        "id": "xqWzHbEr6lOb",
        "colab": {
          "base_uri": "https://localhost:8080/"
        },
        "outputId": "ea60cff9-9c4a-414f-b24d-b2107ce98953"
      },
      "outputs": [
        {
          "output_type": "stream",
          "name": "stdout",
          "text": [
            "0.1638218788984283 2.1464174261322464\n"
          ]
        }
      ],
      "source": [
        "# Option for choosing the lowest with a loop\n",
        "best_alpha = None\n",
        "best_test_error = float('inf')\n",
        "for e,a in zip(test_err,ccp_alphas):\n",
        "  if e <best_test_error:\n",
        "    best_test_error= e\n",
        "    best_alpha = a\n",
        "print(best_alpha,best_test_error)"
      ]
    },
    {
      "cell_type": "code",
      "execution_count": 82,
      "metadata": {
        "id": "vjSTDAuH6lOb"
      },
      "outputs": [],
      "source": [
        "# Instantiate a new regressor with the best hyperparameters and the best alpha\n",
        "best_regressor = DecisionTreeRegressor(criterion='squared_error',max_depth=best_params['max_depth'],\n",
        "                                       min_samples_leaf = best_params['min_samples_leaf'],\n",
        "                                       min_samples_split = best_params['min_samples_split'],random_state=42,ccp_alpha=best_alpha)"
      ]
    },
    {
      "cell_type": "code",
      "execution_count": 83,
      "metadata": {
        "id": "Da_xqpnF6lOc",
        "colab": {
          "base_uri": "https://localhost:8080/",
          "height": 91
        },
        "outputId": "e74804d0-6305-4a51-9e9e-3f9ceca85b9e"
      },
      "outputs": [
        {
          "output_type": "execute_result",
          "data": {
            "text/plain": [
              "DecisionTreeRegressor(ccp_alpha=0.1638218788984283, max_depth=7,\n",
              "                      min_samples_leaf=7, min_samples_split=4, random_state=42)"
            ],
            "text/html": [
              "<style>#sk-container-id-2 {color: black;}#sk-container-id-2 pre{padding: 0;}#sk-container-id-2 div.sk-toggleable {background-color: white;}#sk-container-id-2 label.sk-toggleable__label {cursor: pointer;display: block;width: 100%;margin-bottom: 0;padding: 0.3em;box-sizing: border-box;text-align: center;}#sk-container-id-2 label.sk-toggleable__label-arrow:before {content: \"▸\";float: left;margin-right: 0.25em;color: #696969;}#sk-container-id-2 label.sk-toggleable__label-arrow:hover:before {color: black;}#sk-container-id-2 div.sk-estimator:hover label.sk-toggleable__label-arrow:before {color: black;}#sk-container-id-2 div.sk-toggleable__content {max-height: 0;max-width: 0;overflow: hidden;text-align: left;background-color: #f0f8ff;}#sk-container-id-2 div.sk-toggleable__content pre {margin: 0.2em;color: black;border-radius: 0.25em;background-color: #f0f8ff;}#sk-container-id-2 input.sk-toggleable__control:checked~div.sk-toggleable__content {max-height: 200px;max-width: 100%;overflow: auto;}#sk-container-id-2 input.sk-toggleable__control:checked~label.sk-toggleable__label-arrow:before {content: \"▾\";}#sk-container-id-2 div.sk-estimator input.sk-toggleable__control:checked~label.sk-toggleable__label {background-color: #d4ebff;}#sk-container-id-2 div.sk-label input.sk-toggleable__control:checked~label.sk-toggleable__label {background-color: #d4ebff;}#sk-container-id-2 input.sk-hidden--visually {border: 0;clip: rect(1px 1px 1px 1px);clip: rect(1px, 1px, 1px, 1px);height: 1px;margin: -1px;overflow: hidden;padding: 0;position: absolute;width: 1px;}#sk-container-id-2 div.sk-estimator {font-family: monospace;background-color: #f0f8ff;border: 1px dotted black;border-radius: 0.25em;box-sizing: border-box;margin-bottom: 0.5em;}#sk-container-id-2 div.sk-estimator:hover {background-color: #d4ebff;}#sk-container-id-2 div.sk-parallel-item::after {content: \"\";width: 100%;border-bottom: 1px solid gray;flex-grow: 1;}#sk-container-id-2 div.sk-label:hover label.sk-toggleable__label {background-color: #d4ebff;}#sk-container-id-2 div.sk-serial::before {content: \"\";position: absolute;border-left: 1px solid gray;box-sizing: border-box;top: 0;bottom: 0;left: 50%;z-index: 0;}#sk-container-id-2 div.sk-serial {display: flex;flex-direction: column;align-items: center;background-color: white;padding-right: 0.2em;padding-left: 0.2em;position: relative;}#sk-container-id-2 div.sk-item {position: relative;z-index: 1;}#sk-container-id-2 div.sk-parallel {display: flex;align-items: stretch;justify-content: center;background-color: white;position: relative;}#sk-container-id-2 div.sk-item::before, #sk-container-id-2 div.sk-parallel-item::before {content: \"\";position: absolute;border-left: 1px solid gray;box-sizing: border-box;top: 0;bottom: 0;left: 50%;z-index: -1;}#sk-container-id-2 div.sk-parallel-item {display: flex;flex-direction: column;z-index: 1;position: relative;background-color: white;}#sk-container-id-2 div.sk-parallel-item:first-child::after {align-self: flex-end;width: 50%;}#sk-container-id-2 div.sk-parallel-item:last-child::after {align-self: flex-start;width: 50%;}#sk-container-id-2 div.sk-parallel-item:only-child::after {width: 0;}#sk-container-id-2 div.sk-dashed-wrapped {border: 1px dashed gray;margin: 0 0.4em 0.5em 0.4em;box-sizing: border-box;padding-bottom: 0.4em;background-color: white;}#sk-container-id-2 div.sk-label label {font-family: monospace;font-weight: bold;display: inline-block;line-height: 1.2em;}#sk-container-id-2 div.sk-label-container {text-align: center;}#sk-container-id-2 div.sk-container {/* jupyter's `normalize.less` sets `[hidden] { display: none; }` but bootstrap.min.css set `[hidden] { display: none !important; }` so we also need the `!important` here to be able to override the default hidden behavior on the sphinx rendered scikit-learn.org. See: https://github.com/scikit-learn/scikit-learn/issues/21755 */display: inline-block !important;position: relative;}#sk-container-id-2 div.sk-text-repr-fallback {display: none;}</style><div id=\"sk-container-id-2\" class=\"sk-top-container\"><div class=\"sk-text-repr-fallback\"><pre>DecisionTreeRegressor(ccp_alpha=0.1638218788984283, max_depth=7,\n",
              "                      min_samples_leaf=7, min_samples_split=4, random_state=42)</pre><b>In a Jupyter environment, please rerun this cell to show the HTML representation or trust the notebook. <br />On GitHub, the HTML representation is unable to render, please try loading this page with nbviewer.org.</b></div><div class=\"sk-container\" hidden><div class=\"sk-item\"><div class=\"sk-estimator sk-toggleable\"><input class=\"sk-toggleable__control sk-hidden--visually\" id=\"sk-estimator-id-2\" type=\"checkbox\" checked><label for=\"sk-estimator-id-2\" class=\"sk-toggleable__label sk-toggleable__label-arrow\">DecisionTreeRegressor</label><div class=\"sk-toggleable__content\"><pre>DecisionTreeRegressor(ccp_alpha=0.1638218788984283, max_depth=7,\n",
              "                      min_samples_leaf=7, min_samples_split=4, random_state=42)</pre></div></div></div></div></div>"
            ]
          },
          "metadata": {},
          "execution_count": 83
        }
      ],
      "source": [
        "# Fit the regressor to the train data\n",
        "best_regressor.fit(X_train,y_train)"
      ]
    },
    {
      "cell_type": "code",
      "execution_count": 89,
      "metadata": {
        "id": "DchMJI3Q6lOc"
      },
      "outputs": [],
      "source": [
        "# Predict on train and test to see new model scores\n",
        "y_train_pred = best_regressor.predict(X_train)\n",
        "y_test_pred = best_regressor.predict(X_test)"
      ]
    },
    {
      "cell_type": "code",
      "execution_count": 90,
      "metadata": {
        "id": "Uqb6ua5G6lOc",
        "colab": {
          "base_uri": "https://localhost:8080/"
        },
        "outputId": "975fbfff-e138-4f89-aaec-f12f4cb14f0b"
      },
      "outputs": [
        {
          "output_type": "execute_result",
          "data": {
            "text/plain": [
              "2.3969763151850176"
            ]
          },
          "metadata": {},
          "execution_count": 90
        }
      ],
      "source": [
        "# New training error\n",
        "mean_absolute_error(y_train_pred,y_train)"
      ]
    },
    {
      "cell_type": "code",
      "execution_count": null,
      "metadata": {
        "id": "20jNzMKR6lOc"
      },
      "outputs": [],
      "source": [
        "# New testing error\n",
        "mean_absolute_error(y_test_pred,y_test)"
      ]
    },
    {
      "cell_type": "markdown",
      "metadata": {
        "id": "2Dq7iztv6lOd"
      },
      "source": [
        "## We have improved our testing error - the old score was ~2.85 and the new score is ~2.83"
      ]
    },
    {
      "cell_type": "code",
      "execution_count": 94,
      "metadata": {
        "id": "OJKB0wg26lOd",
        "colab": {
          "base_uri": "https://localhost:8080/"
        },
        "outputId": "c9c9d365-844a-4e9b-c0dc-a889d42b3ce6"
      },
      "outputs": [
        {
          "output_type": "stream",
          "name": "stdout",
          "text": [
            "0,1,2,3,4,5,6,7,8,9,10\n"
          ]
        }
      ],
      "source": [
        "# Write out your model and data to use in the next project - Visualization\n",
        "pickle.dump(best_regressor,open('/content/boston-house-prices-regression/data/reg_model.pkl','wb'))\n",
        "pd.DataFrame(X_train).to_csv('/content/boston-house-prices-regression/data/boston_X_train.csv',index=False)\n",
        "pd.DataFrame(y_train).to_csv('/content/boston-house-prices-regression/data/boston_y_train.csv',index=False)\n",
        "with open('/content/boston-house-prices-regression/data/boston_features.txt','w') as f:\n",
        "    feat_str = ','.join(features)\n",
        "    print(feat_str)\n",
        "    f.write(feat_str)"
      ]
    },
    {
      "cell_type": "markdown",
      "metadata": {
        "id": "iYP5IvL-6lOd"
      },
      "source": [
        "<div style=\"position: relative;\">\n",
        "<img src=\"https://user-images.githubusercontent.com/7065401/98729912-57be3e80-237a-11eb-80e4-233ac344b391.png\"></img>\n",
        "</div>"
      ]
    }
  ],
  "metadata": {
    "kernelspec": {
      "display_name": "Python 3",
      "language": "python",
      "name": "python3"
    },
    "language_info": {
      "codemirror_mode": {
        "name": "ipython",
        "version": 3
      },
      "file_extension": ".py",
      "mimetype": "text/x-python",
      "name": "python",
      "nbconvert_exporter": "python",
      "pygments_lexer": "ipython3",
      "version": "3.8.6"
    },
    "colab": {
      "provenance": [],
      "include_colab_link": true
    }
  },
  "nbformat": 4,
  "nbformat_minor": 0
}